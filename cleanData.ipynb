{
 "cells": [
  {
   "cell_type": "markdown",
   "id": "753da90c",
   "metadata": {},
   "source": [
    "# Dataset description\n",
    "\n",
    "- DR_NO: Dies könnte für \"DR Number\" oder \"Division of Records Number\" stehen, eine eindeutige \n",
    "  Kennung für  jeden Kriminalfall.\n",
    "- Date Rptd: \"Date Reported\" – das Datum, an dem der Vorfall gemeldet wurde.\n",
    "- DATE OCC: \"Date of Occurrence\" – das Datum, an dem der Vorfall tatsächlich stattfand.\n",
    "- TIME OCC: \"Time of Occurrence\" – die Uhrzeit, zu der der Vorfall stattfand.\n",
    "- AREA: Dies könnte eine numerische Bezeichnung für ein spezifisches geographisches oder \n",
    "  Verwaltungsgebiet sein.\n",
    "- AREA NAME: Der Name des geographischen oder Verwaltungsgebiets.\n",
    "- Rpt Dist No: \"Reporting District Number\" – eine spezifische Zahl, die das \n",
    "  Gebiet oder den Bezirk kennzeichnet, in dem der Vorfall gemeldet wurde.\n",
    "- Part 1-2: Dies könnte eine Klassifizierung von Verbrechen in zwei Kategorien sein, wobei \"Part 1\" \n",
    "  schwerere Verbrechen und \"Part 2\" weniger schwere Verbrechen bezeichnen könnte.\n",
    "- Crm Cd: \"Crime Code\" – eine numerische Kennung für die Art des Verbrechens.\n",
    "- Crm Cd Desc: \"Crime Code Description\" – eine Beschreibung der Art des Verbrechens.\n",
    "- Mocodes: Möglicherweise \"Modus Operandi Codes\" – spezifische Codes, die den Modus \n",
    "  Operandi oder die Methode/Umstände des Verbrechens beschreiben.\n",
    "- Vict Age: \"Victim Age\" – das Alter des Opfers.\n",
    "- Vict Sex: \"Victim Sex\" – das Geschlecht des Opfers.\n",
    "- Vict Descent: \"Victim Descent\" – die ethnische Abstammung oder Nationalität des Opfers.\n",
    "- Premis Cd: \"Premises Code\" – ein Code, der den Ortstyp des Vorfalls angibt.\n",
    "- Premis Desc: \"Premises Description\" – eine Beschreibung des Ortes des Vorfalls.\n",
    "- Weapon Used Cd: \"Weapon Used Code\" – ein Code, der angibt, ob und welche Waffe bei dem \n",
    "  Vorfall verwendet wurde.\n",
    "- Weapon Desc: \"Weapon Description\" – eine Beschreibung der bei dem Vorfall verwendeten Waffe.\n",
    "- Status: Der aktuelle Status des Falls (z.B. offen, gelöst).\n",
    "- Status Desc: \"Status Description\" – eine detaillierte Beschreibung des Status des Falls.\n",
    "- Crm Cd 1, Crm Cd 2, Crm Cd 3, Crm Cd 4: Zusätzliche Codes für Verbrechen, wenn mehr als \n",
    "  ein Verbrechen im Rahmen eines Vorfalls gemeldet wurde.\n",
    "- LOCATION: Die genaue Adresse oder der Ort des Vorfalls.\n",
    "- Cross Street: Die nächstgelegene Querstraße zum Vorfallsort.\n",
    "- LAT, LON: Geografische Koordinaten (Breitengrad und Längengrad) des Vorfalls.\n",
    "\n",
    "---------------\n",
    "\n",
    "# Weitere Beschreibungen\n",
    "\n",
    "- AO - Adult Other: Dieser Status könnte bedeuten, dass der Fall mit einem Erwachsenen in Verbindung steht, der weder ein Verdächtiger noch ein Opfer ist, sondern möglicherweise eine andere Rolle im Fall spielt (wie z.B. ein Zeuge).\n",
    "- IC - Investigation Continues: Dieser Status deutet darauf hin, dass der Fall noch aktiv untersucht wird. Der Fall ist noch nicht abgeschlossen, und weitere Ermittlungen sind im Gange.\n",
    "- AA - Arrested Adult: Dieser Status könnte anzeigen, dass ein erwachsener Verdächtiger in dem Fall verhaftet wurde."
   ]
  },
  {
   "cell_type": "markdown",
   "id": "d5b988a5",
   "metadata": {},
   "source": [
    "# Data Preparation and Cleaning\n",
    "- Clean missing values (NaN Values)\n",
    "- Transform datatypes e.g string in datetimes\n",
    "- Clean real duplicates\n",
    "- Find anomalies and handle them - 0 or -2 is not an age"
   ]
  },
  {
   "cell_type": "code",
   "execution_count": 26,
   "id": "38d54d6a",
   "metadata": {},
   "outputs": [
    {
     "name": "stderr",
     "output_type": "stream",
     "text": [
      "/var/folders/jr/887rxn_n5nn1d9cjrnh9h7yh0000gn/T/ipykernel_71206/1530790002.py:23: UserWarning: Could not infer format, so each element will be parsed individually, falling back to `dateutil`. To ensure parsing is consistent and as-expected, please specify a format.\n",
      "  dataFrame[column] = pd.to_datetime(dataFrame[column], errors='coerce')\n",
      "/var/folders/jr/887rxn_n5nn1d9cjrnh9h7yh0000gn/T/ipykernel_71206/1530790002.py:23: UserWarning: Could not infer format, so each element will be parsed individually, falling back to `dateutil`. To ensure parsing is consistent and as-expected, please specify a format.\n",
      "  dataFrame[column] = pd.to_datetime(dataFrame[column], errors='coerce')\n"
     ]
    }
   ],
   "source": [
    "import pandas as pd\n",
    "import numpy as np\n",
    "\n",
    "class DataPreparationCleaning:\n",
    "    def __init__(self, file):\n",
    "        self.file = file\n",
    "        self.finalDataframe = self.dataPreparationCleaning()\n",
    "        \n",
    "    def dataPreparationCleaning(self): # method to call special preparation methods\n",
    "        dataFrame = pd.read_csv(self.file)\n",
    "        dataFrame = dataFrame[['AREA NAME', 'Crm Cd Desc', 'DATE OCC', 'TIME OCC', 'Vict Sex', 'Vict Age','Status']]\n",
    "        dataFrame = self.cleaningMissingValues(dataFrame)\n",
    "        dataFrame = self.transformFormat(dataFrame, 'DATE OCC')\n",
    "        dataFrame = self.cleanAnomalies(dataFrame, 'Vict Age')\n",
    "        dataFrame = self.cleanDuplicates(dataFrame)\n",
    "        return dataFrame\n",
    "    \n",
    "    def cleaningMissingValues(self, dataFrame):\n",
    "        dataFrame = dataFrame.dropna()\n",
    "        return dataFrame\n",
    "    \n",
    "    def transformFormat(self, dataFrame, column):\n",
    "        dataFrame[column] = pd.to_datetime(dataFrame[column], errors='coerce')\n",
    "        return dataFrame\n",
    "    \n",
    "    def cleanAnomalies(self, dataFrame, column):\n",
    "        dataFrame = dataFrame[dataFrame[column]>0]\n",
    "        return dataFrame\n",
    "    \n",
    "    def cleanDuplicates(self, dataFrame):\n",
    "        dataFrame = dataFrame.drop_duplicates()\n",
    "        return dataFrame\n",
    "\n",
    "def main():\n",
    "    file = 'Crime_Data_from_2020_to_Present.csv'\n",
    "    preparationApp = DataPreparationCleaning(file)\n",
    "    preparationApp.dataPreparationCleaning()\n",
    "\n",
    "main()"
   ]
  },
  {
   "cell_type": "code",
   "execution_count": null,
   "id": "7a7fb34d",
   "metadata": {},
   "outputs": [],
   "source": []
  }
 ],
 "metadata": {
  "kernelspec": {
   "display_name": "Python 3 (ipykernel)",
   "language": "python",
   "name": "python3"
  },
  "language_info": {
   "codemirror_mode": {
    "name": "ipython",
    "version": 3
   },
   "file_extension": ".py",
   "mimetype": "text/x-python",
   "name": "python",
   "nbconvert_exporter": "python",
   "pygments_lexer": "ipython3",
   "version": "3.11.5"
  }
 },
 "nbformat": 4,
 "nbformat_minor": 5
}
